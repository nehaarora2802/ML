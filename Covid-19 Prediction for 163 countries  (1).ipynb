{
 "cells": [
  {
   "cell_type": "markdown",
   "metadata": {},
   "source": [
    "# COVID 19 predications for 163 countries"
   ]
  },
  {
   "cell_type": "raw",
   "metadata": {},
   "source": [
    "Coronaviruses are a large family of viruses found mostly in animals. In humans, they can cause diseases ranging from the common cold to more severe diseases such as Severe Acute Respiratory Syndrome (SARS) and Middle East Respiratory Syndrome (MERS). The disease caused by the new coronavirus has been named COVID-19.\n",
    "\n",
    "Below we have need to identufy the Confirmed Cases and related Fatalities from Mid March to Mid April data based on the previous three months data available.\n",
    "\n",
    "COVID-19 was first identified in late 2019. It was declared a global pandemic by the World Health Organization in March 2020."
   ]
  },
  {
   "cell_type": "code",
   "execution_count": 1,
   "metadata": {},
   "outputs": [],
   "source": [
    "# Importing Libraries\n",
    "\n",
    "import pandas as pd\n",
    "import numpy as np\n",
    "import matplotlib.pyplot as plt\n",
    "%matplotlib inline\n",
    "import seaborn as sns \n",
    "\n",
    "import calendar\n",
    "\n",
    "from sklearn.ensemble import RandomForestRegressor\n",
    "from sklearn.tree import DecisionTreeRegressor\n",
    "from sklearn import tree\n"
   ]
  },
  {
   "cell_type": "code",
   "execution_count": 2,
   "metadata": {},
   "outputs": [],
   "source": [
    "#loading the data\n",
    "train = pd.read_csv('train.csv')\n",
    "test = pd.read_csv('test.csv')\n",
    "submission = pd.read_csv('submission.csv')"
   ]
  },
  {
   "cell_type": "markdown",
   "metadata": {},
   "source": [
    "# Data exploration and interpretation"
   ]
  },
  {
   "cell_type": "code",
   "execution_count": 3,
   "metadata": {},
   "outputs": [],
   "source": [
    "#Adding a new column i.e. Month which pulls the month data from 'Date'\n",
    "train['Month'] = pd.DatetimeIndex(train['Date']).month\n",
    "train['Month'] = train['Month'].apply(lambda x: calendar.month_abbr[x])\n",
    "\n",
    "# Reset Train Data with columns in desired order (i.e. Moving Month column after date)\n",
    "train = train[['Id', 'Province/State','Country/Region','Lat','Long','Date', 'Month', 'ConfirmedCases', 'Fatalities']]"
   ]
  },
  {
   "cell_type": "code",
   "execution_count": 4,
   "metadata": {},
   "outputs": [
    {
     "data": {
      "text/html": [
       "<div>\n",
       "<style scoped>\n",
       "    .dataframe tbody tr th:only-of-type {\n",
       "        vertical-align: middle;\n",
       "    }\n",
       "\n",
       "    .dataframe tbody tr th {\n",
       "        vertical-align: top;\n",
       "    }\n",
       "\n",
       "    .dataframe thead th {\n",
       "        text-align: right;\n",
       "    }\n",
       "</style>\n",
       "<table border=\"1\" class=\"dataframe\">\n",
       "  <thead>\n",
       "    <tr style=\"text-align: right;\">\n",
       "      <th></th>\n",
       "      <th>Id</th>\n",
       "      <th>Province/State</th>\n",
       "      <th>Country/Region</th>\n",
       "      <th>Lat</th>\n",
       "      <th>Long</th>\n",
       "      <th>Date</th>\n",
       "      <th>Month</th>\n",
       "      <th>ConfirmedCases</th>\n",
       "      <th>Fatalities</th>\n",
       "    </tr>\n",
       "  </thead>\n",
       "  <tbody>\n",
       "    <tr>\n",
       "      <td>0</td>\n",
       "      <td>1</td>\n",
       "      <td>NaN</td>\n",
       "      <td>Afghanistan</td>\n",
       "      <td>33.0</td>\n",
       "      <td>65.0</td>\n",
       "      <td>2020-01-22</td>\n",
       "      <td>Jan</td>\n",
       "      <td>0.0</td>\n",
       "      <td>0.0</td>\n",
       "    </tr>\n",
       "    <tr>\n",
       "      <td>1</td>\n",
       "      <td>2</td>\n",
       "      <td>NaN</td>\n",
       "      <td>Afghanistan</td>\n",
       "      <td>33.0</td>\n",
       "      <td>65.0</td>\n",
       "      <td>2020-01-23</td>\n",
       "      <td>Jan</td>\n",
       "      <td>0.0</td>\n",
       "      <td>0.0</td>\n",
       "    </tr>\n",
       "    <tr>\n",
       "      <td>2</td>\n",
       "      <td>3</td>\n",
       "      <td>NaN</td>\n",
       "      <td>Afghanistan</td>\n",
       "      <td>33.0</td>\n",
       "      <td>65.0</td>\n",
       "      <td>2020-01-24</td>\n",
       "      <td>Jan</td>\n",
       "      <td>0.0</td>\n",
       "      <td>0.0</td>\n",
       "    </tr>\n",
       "    <tr>\n",
       "      <td>3</td>\n",
       "      <td>4</td>\n",
       "      <td>NaN</td>\n",
       "      <td>Afghanistan</td>\n",
       "      <td>33.0</td>\n",
       "      <td>65.0</td>\n",
       "      <td>2020-01-25</td>\n",
       "      <td>Jan</td>\n",
       "      <td>0.0</td>\n",
       "      <td>0.0</td>\n",
       "    </tr>\n",
       "    <tr>\n",
       "      <td>4</td>\n",
       "      <td>5</td>\n",
       "      <td>NaN</td>\n",
       "      <td>Afghanistan</td>\n",
       "      <td>33.0</td>\n",
       "      <td>65.0</td>\n",
       "      <td>2020-01-26</td>\n",
       "      <td>Jan</td>\n",
       "      <td>0.0</td>\n",
       "      <td>0.0</td>\n",
       "    </tr>\n",
       "    <tr>\n",
       "      <td>5</td>\n",
       "      <td>6</td>\n",
       "      <td>NaN</td>\n",
       "      <td>Afghanistan</td>\n",
       "      <td>33.0</td>\n",
       "      <td>65.0</td>\n",
       "      <td>2020-01-27</td>\n",
       "      <td>Jan</td>\n",
       "      <td>0.0</td>\n",
       "      <td>0.0</td>\n",
       "    </tr>\n",
       "    <tr>\n",
       "      <td>6</td>\n",
       "      <td>7</td>\n",
       "      <td>NaN</td>\n",
       "      <td>Afghanistan</td>\n",
       "      <td>33.0</td>\n",
       "      <td>65.0</td>\n",
       "      <td>2020-01-28</td>\n",
       "      <td>Jan</td>\n",
       "      <td>0.0</td>\n",
       "      <td>0.0</td>\n",
       "    </tr>\n",
       "    <tr>\n",
       "      <td>7</td>\n",
       "      <td>8</td>\n",
       "      <td>NaN</td>\n",
       "      <td>Afghanistan</td>\n",
       "      <td>33.0</td>\n",
       "      <td>65.0</td>\n",
       "      <td>2020-01-29</td>\n",
       "      <td>Jan</td>\n",
       "      <td>0.0</td>\n",
       "      <td>0.0</td>\n",
       "    </tr>\n",
       "    <tr>\n",
       "      <td>8</td>\n",
       "      <td>9</td>\n",
       "      <td>NaN</td>\n",
       "      <td>Afghanistan</td>\n",
       "      <td>33.0</td>\n",
       "      <td>65.0</td>\n",
       "      <td>2020-01-30</td>\n",
       "      <td>Jan</td>\n",
       "      <td>0.0</td>\n",
       "      <td>0.0</td>\n",
       "    </tr>\n",
       "    <tr>\n",
       "      <td>9</td>\n",
       "      <td>10</td>\n",
       "      <td>NaN</td>\n",
       "      <td>Afghanistan</td>\n",
       "      <td>33.0</td>\n",
       "      <td>65.0</td>\n",
       "      <td>2020-01-31</td>\n",
       "      <td>Jan</td>\n",
       "      <td>0.0</td>\n",
       "      <td>0.0</td>\n",
       "    </tr>\n",
       "  </tbody>\n",
       "</table>\n",
       "</div>"
      ],
      "text/plain": [
       "   Id Province/State Country/Region   Lat  Long        Date Month  \\\n",
       "0   1            NaN    Afghanistan  33.0  65.0  2020-01-22   Jan   \n",
       "1   2            NaN    Afghanistan  33.0  65.0  2020-01-23   Jan   \n",
       "2   3            NaN    Afghanistan  33.0  65.0  2020-01-24   Jan   \n",
       "3   4            NaN    Afghanistan  33.0  65.0  2020-01-25   Jan   \n",
       "4   5            NaN    Afghanistan  33.0  65.0  2020-01-26   Jan   \n",
       "5   6            NaN    Afghanistan  33.0  65.0  2020-01-27   Jan   \n",
       "6   7            NaN    Afghanistan  33.0  65.0  2020-01-28   Jan   \n",
       "7   8            NaN    Afghanistan  33.0  65.0  2020-01-29   Jan   \n",
       "8   9            NaN    Afghanistan  33.0  65.0  2020-01-30   Jan   \n",
       "9  10            NaN    Afghanistan  33.0  65.0  2020-01-31   Jan   \n",
       "\n",
       "   ConfirmedCases  Fatalities  \n",
       "0             0.0         0.0  \n",
       "1             0.0         0.0  \n",
       "2             0.0         0.0  \n",
       "3             0.0         0.0  \n",
       "4             0.0         0.0  \n",
       "5             0.0         0.0  \n",
       "6             0.0         0.0  \n",
       "7             0.0         0.0  \n",
       "8             0.0         0.0  \n",
       "9             0.0         0.0  "
      ]
     },
     "execution_count": 4,
     "metadata": {},
     "output_type": "execute_result"
    }
   ],
   "source": [
    "train.head(10)"
   ]
  },
  {
   "cell_type": "code",
   "execution_count": 5,
   "metadata": {},
   "outputs": [
    {
     "data": {
      "text/html": [
       "<div>\n",
       "<style scoped>\n",
       "    .dataframe tbody tr th:only-of-type {\n",
       "        vertical-align: middle;\n",
       "    }\n",
       "\n",
       "    .dataframe tbody tr th {\n",
       "        vertical-align: top;\n",
       "    }\n",
       "\n",
       "    .dataframe thead th {\n",
       "        text-align: right;\n",
       "    }\n",
       "</style>\n",
       "<table border=\"1\" class=\"dataframe\">\n",
       "  <thead>\n",
       "    <tr style=\"text-align: right;\">\n",
       "      <th></th>\n",
       "      <th>Id</th>\n",
       "      <th>Lat</th>\n",
       "      <th>Long</th>\n",
       "      <th>ConfirmedCases</th>\n",
       "      <th>Fatalities</th>\n",
       "    </tr>\n",
       "  </thead>\n",
       "  <tbody>\n",
       "    <tr>\n",
       "      <td>count</td>\n",
       "      <td>17892.000000</td>\n",
       "      <td>17892.000000</td>\n",
       "      <td>17892.000000</td>\n",
       "      <td>17892.000000</td>\n",
       "      <td>17892.000000</td>\n",
       "    </tr>\n",
       "    <tr>\n",
       "      <td>mean</td>\n",
       "      <td>13191.500000</td>\n",
       "      <td>26.287693</td>\n",
       "      <td>4.766191</td>\n",
       "      <td>325.207523</td>\n",
       "      <td>11.974737</td>\n",
       "    </tr>\n",
       "    <tr>\n",
       "      <td>std</td>\n",
       "      <td>7624.675152</td>\n",
       "      <td>22.935092</td>\n",
       "      <td>79.923261</td>\n",
       "      <td>3538.599684</td>\n",
       "      <td>174.346267</td>\n",
       "    </tr>\n",
       "    <tr>\n",
       "      <td>min</td>\n",
       "      <td>1.000000</td>\n",
       "      <td>-41.454500</td>\n",
       "      <td>-157.498300</td>\n",
       "      <td>0.000000</td>\n",
       "      <td>0.000000</td>\n",
       "    </tr>\n",
       "    <tr>\n",
       "      <td>25%</td>\n",
       "      <td>6596.250000</td>\n",
       "      <td>13.145425</td>\n",
       "      <td>-71.516375</td>\n",
       "      <td>0.000000</td>\n",
       "      <td>0.000000</td>\n",
       "    </tr>\n",
       "    <tr>\n",
       "      <td>50%</td>\n",
       "      <td>13191.500000</td>\n",
       "      <td>32.985550</td>\n",
       "      <td>9.775000</td>\n",
       "      <td>0.000000</td>\n",
       "      <td>0.000000</td>\n",
       "    </tr>\n",
       "    <tr>\n",
       "      <td>75%</td>\n",
       "      <td>19786.750000</td>\n",
       "      <td>42.501575</td>\n",
       "      <td>64.688975</td>\n",
       "      <td>10.000000</td>\n",
       "      <td>0.000000</td>\n",
       "    </tr>\n",
       "    <tr>\n",
       "      <td>max</td>\n",
       "      <td>26382.000000</td>\n",
       "      <td>71.706900</td>\n",
       "      <td>174.886000</td>\n",
       "      <td>69176.000000</td>\n",
       "      <td>6820.000000</td>\n",
       "    </tr>\n",
       "  </tbody>\n",
       "</table>\n",
       "</div>"
      ],
      "text/plain": [
       "                 Id           Lat          Long  ConfirmedCases    Fatalities\n",
       "count  17892.000000  17892.000000  17892.000000    17892.000000  17892.000000\n",
       "mean   13191.500000     26.287693      4.766191      325.207523     11.974737\n",
       "std     7624.675152     22.935092     79.923261     3538.599684    174.346267\n",
       "min        1.000000    -41.454500   -157.498300        0.000000      0.000000\n",
       "25%     6596.250000     13.145425    -71.516375        0.000000      0.000000\n",
       "50%    13191.500000     32.985550      9.775000        0.000000      0.000000\n",
       "75%    19786.750000     42.501575     64.688975       10.000000      0.000000\n",
       "max    26382.000000     71.706900    174.886000    69176.000000   6820.000000"
      ]
     },
     "execution_count": 5,
     "metadata": {},
     "output_type": "execute_result"
    }
   ],
   "source": [
    "# Getting the stats for the 'train' data\n",
    "train.describe()"
   ]
  },
  {
   "cell_type": "code",
   "execution_count": 6,
   "metadata": {},
   "outputs": [
    {
     "name": "stdout",
     "output_type": "stream",
     "text": [
      "Id  : Number column\n",
      "Province/State : OBJECT\n",
      "Country/Region : OBJECT\n",
      "Lat  : Number column\n",
      "Long  : Number column\n",
      "Date : OBJECT\n",
      "Month : OBJECT\n",
      "ConfirmedCases  : Number column\n",
      "Fatalities  : Number column\n"
     ]
    },
    {
     "data": {
      "text/plain": [
       "dtype('O')"
      ]
     },
     "execution_count": 6,
     "metadata": {},
     "output_type": "execute_result"
    }
   ],
   "source": [
    "# Checking the type for all columns in the data\n",
    "for i in train.columns:\n",
    "     if train[i].dtype.name == 'object':\n",
    "            print(i, \": OBJECT\")\n",
    "     else:\n",
    "        print(i, \" : Number column\")\n",
    "        \n",
    "train.Date.dtype  "
   ]
  },
  {
   "cell_type": "code",
   "execution_count": 7,
   "metadata": {},
   "outputs": [
    {
     "name": "stdout",
     "output_type": "stream",
     "text": [
      "2020-01-22  -  2020-03-24\n"
     ]
    }
   ],
   "source": [
    "# Checking the data dates (i.e. data is available from Mid Jan to mid March)\n",
    "print(train['Date'].min(), ' - ', train['Date'].max())"
   ]
  },
  {
   "cell_type": "code",
   "execution_count": 8,
   "metadata": {},
   "outputs": [
    {
     "name": "stdout",
     "output_type": "stream",
     "text": [
      "['Afghanistan' 'Albania' 'Algeria' 'Andorra' 'Antigua and Barbuda'\n",
      " 'Argentina' 'Armenia' 'Aruba' 'Australia' 'Austria' 'Azerbaijan'\n",
      " 'Bahrain' 'Bangladesh' 'Barbados' 'Belarus' 'Belgium' 'Benin' 'Bhutan'\n",
      " 'Bolivia' 'Bosnia and Herzegovina' 'Brazil' 'Brunei' 'Bulgaria'\n",
      " 'Burkina Faso' 'Cambodia' 'Cameroon' 'Canada' 'Central African Republic'\n",
      " 'Chile' 'China' 'Colombia' 'Congo (Brazzaville)' 'Congo (Kinshasa)'\n",
      " 'Costa Rica' \"Cote d'Ivoire\" 'Croatia' 'Cruise Ship' 'Cuba' 'Cyprus'\n",
      " 'Czechia' 'Denmark' 'Djibouti' 'Dominican Republic' 'Ecuador' 'Egypt'\n",
      " 'Equatorial Guinea' 'Estonia' 'Eswatini' 'Ethiopia' 'Finland' 'France'\n",
      " 'French Guiana' 'Gabon' 'Gambia, The' 'Georgia' 'Germany' 'Ghana'\n",
      " 'Greece' 'Greenland' 'Guadeloupe' 'Guam' 'Guatemala' 'Guernsey' 'Guinea'\n",
      " 'Guyana' 'Holy See' 'Honduras' 'Hungary' 'Iceland' 'India' 'Indonesia'\n",
      " 'Iran' 'Iraq' 'Ireland' 'Israel' 'Italy' 'Jamaica' 'Japan' 'Jersey'\n",
      " 'Jordan' 'Kazakhstan' 'Kenya' 'Korea, South' 'Kosovo' 'Kuwait'\n",
      " 'Kyrgyzstan' 'Latvia' 'Lebanon' 'Liberia' 'Liechtenstein' 'Lithuania'\n",
      " 'Luxembourg' 'Malaysia' 'Maldives' 'Malta' 'Martinique' 'Mauritania'\n",
      " 'Mauritius' 'Mayotte' 'Mexico' 'Moldova' 'Monaco' 'Mongolia' 'Montenegro'\n",
      " 'Morocco' 'Namibia' 'Nepal' 'Netherlands' 'New Zealand' 'Nigeria'\n",
      " 'North Macedonia' 'Norway' 'Oman' 'Pakistan' 'Panama' 'Paraguay' 'Peru'\n",
      " 'Philippines' 'Poland' 'Portugal' 'Puerto Rico' 'Qatar'\n",
      " 'Republic of the Congo' 'Reunion' 'Romania' 'Russia' 'Rwanda'\n",
      " 'Saint Lucia' 'Saint Vincent and the Grenadines' 'San Marino'\n",
      " 'Saudi Arabia' 'Senegal' 'Serbia' 'Seychelles' 'Singapore' 'Slovakia'\n",
      " 'Slovenia' 'Somalia' 'South Africa' 'Spain' 'Sri Lanka' 'Sudan'\n",
      " 'Suriname' 'Sweden' 'Switzerland' 'Taiwan*' 'Tanzania' 'Thailand'\n",
      " 'The Bahamas' 'The Gambia' 'Togo' 'Trinidad and Tobago' 'Tunisia'\n",
      " 'Turkey' 'US' 'Ukraine' 'United Arab Emirates' 'United Kingdom' 'Uruguay'\n",
      " 'Uzbekistan' 'Venezuela' 'Vietnam' 'Zambia']\n",
      "163\n"
     ]
    }
   ],
   "source": [
    "# Getting Unique list of countries\n",
    "Unique_names = train['Country/Region'].unique()\n",
    "print(Unique_names)\n",
    "print(len(Unique_names))"
   ]
  },
  {
   "cell_type": "code",
   "execution_count": 9,
   "metadata": {},
   "outputs": [
    {
     "data": {
      "text/plain": [
       "<bound method DataFrame.reset_index of                   Date  Fatalities\n",
       "Date                              \n",
       "2020-01-22  2020-01-22        17.0\n",
       "2020-01-23  2020-01-23        17.0\n",
       "2020-01-24  2020-01-24        24.0\n",
       "2020-01-25  2020-01-25        40.0\n",
       "2020-01-26  2020-01-26        52.0\n",
       "...                ...         ...\n",
       "2020-03-20  2020-03-20      4032.0\n",
       "2020-03-21  2020-03-21      4825.0\n",
       "2020-03-22  2020-03-22      5476.0\n",
       "2020-03-23  2020-03-23      6077.0\n",
       "2020-03-24  2020-03-24      6820.0\n",
       "\n",
       "[63 rows x 2 columns]>"
      ]
     },
     "execution_count": 9,
     "metadata": {},
     "output_type": "execute_result"
    }
   ],
   "source": [
    "# Checking Daily Worldwide Fatalities for particular dates\n",
    "New_train_Fatalities = train.groupby('Date')['Date', 'Fatalities'].max().reset_index\n",
    "New_train_Fatalities\n",
    "#We have noticed that Fatalities had increaed gradually in March"
   ]
  },
  {
   "cell_type": "code",
   "execution_count": 10,
   "metadata": {},
   "outputs": [
    {
     "data": {
      "image/png": "[encoded data removed]",
      "text/plain": [
       "<Figure size 1080x1080 with 2 Axes>"
      ]
     },
     "metadata": {
      "needs_background": "light"
     },
     "output_type": "display_data"
    },
    {
     "data": {
      "image/png": "[encoded data removed]",
      "text/plain": [
       "<Figure size 1080x1080 with 2 Axes>"
      ]
     },
     "metadata": {
      "needs_background": "light"
     },
     "output_type": "display_data"
    }
   ],
   "source": [
    "#Interpreting the data in the form of Graphs\n",
    "\n",
    "#Checking the cases based for Specific country for all dates\n",
    "def country_stats(country, train):\n",
    "    country_filter = (train['Country/Region'] == country)\n",
    "    train_cases = train.loc[country_filter].groupby(['Date'])['ConfirmedCases'].max()\n",
    "    train_fatal = train.loc[country_filter].groupby(['Date'])['Fatalities'].max()\n",
    "    fig, axes = plt.subplots(nrows = 2, ncols= 1, figsize=(15,15))\n",
    "    train_cases.plot(ax = axes[0], title = country + ' ConfirmedCases')\n",
    "    train_fatal.plot(ax = axes[1], title = country + ' Fatalities')\n",
    "    \n",
    "country_stats('Canada', train)\n",
    "country_stats('Italy', train)\n",
    "# Checked two country, what we noticed that Fatalities and confirmed cases has started increasing after March 12th for both the countries\n",
    "# Earlier we do have cases but it was controllable\n",
    "# Based on these graph we can say that 1st Phase has started in March "
   ]
  },
  {
   "cell_type": "code",
   "execution_count": 11,
   "metadata": {},
   "outputs": [
    {
     "data": {
      "text/html": [
       "<div>\n",
       "<style scoped>\n",
       "    .dataframe tbody tr th:only-of-type {\n",
       "        vertical-align: middle;\n",
       "    }\n",
       "\n",
       "    .dataframe tbody tr th {\n",
       "        vertical-align: top;\n",
       "    }\n",
       "\n",
       "    .dataframe thead th {\n",
       "        text-align: right;\n",
       "    }\n",
       "</style>\n",
       "<table border=\"1\" class=\"dataframe\">\n",
       "  <thead>\n",
       "    <tr style=\"text-align: right;\">\n",
       "      <th></th>\n",
       "      <th>Country/Region</th>\n",
       "      <th>ConfirmedCases</th>\n",
       "    </tr>\n",
       "  </thead>\n",
       "  <tbody>\n",
       "    <tr>\n",
       "      <td>75</td>\n",
       "      <td>Italy</td>\n",
       "      <td>69176.0</td>\n",
       "    </tr>\n",
       "    <tr>\n",
       "      <td>29</td>\n",
       "      <td>China</td>\n",
       "      <td>67801.0</td>\n",
       "    </tr>\n",
       "    <tr>\n",
       "      <td>139</td>\n",
       "      <td>Spain</td>\n",
       "      <td>39885.0</td>\n",
       "    </tr>\n",
       "    <tr>\n",
       "      <td>55</td>\n",
       "      <td>Germany</td>\n",
       "      <td>32986.0</td>\n",
       "    </tr>\n",
       "    <tr>\n",
       "      <td>154</td>\n",
       "      <td>US</td>\n",
       "      <td>25681.0</td>\n",
       "    </tr>\n",
       "    <tr>\n",
       "      <td>...</td>\n",
       "      <td>...</td>\n",
       "      <td>...</td>\n",
       "    </tr>\n",
       "    <tr>\n",
       "      <td>148</td>\n",
       "      <td>The Bahamas</td>\n",
       "      <td>0.0</td>\n",
       "    </tr>\n",
       "    <tr>\n",
       "      <td>62</td>\n",
       "      <td>Guernsey</td>\n",
       "      <td>0.0</td>\n",
       "    </tr>\n",
       "    <tr>\n",
       "      <td>60</td>\n",
       "      <td>Guam</td>\n",
       "      <td>0.0</td>\n",
       "    </tr>\n",
       "    <tr>\n",
       "      <td>59</td>\n",
       "      <td>Guadeloupe</td>\n",
       "      <td>0.0</td>\n",
       "    </tr>\n",
       "    <tr>\n",
       "      <td>58</td>\n",
       "      <td>Greenland</td>\n",
       "      <td>0.0</td>\n",
       "    </tr>\n",
       "  </tbody>\n",
       "</table>\n",
       "<p>163 rows × 2 columns</p>\n",
       "</div>"
      ],
      "text/plain": [
       "    Country/Region  ConfirmedCases\n",
       "75           Italy         69176.0\n",
       "29           China         67801.0\n",
       "139          Spain         39885.0\n",
       "55         Germany         32986.0\n",
       "154             US         25681.0\n",
       "..             ...             ...\n",
       "148    The Bahamas             0.0\n",
       "62        Guernsey             0.0\n",
       "60            Guam             0.0\n",
       "59      Guadeloupe             0.0\n",
       "58       Greenland             0.0\n",
       "\n",
       "[163 rows x 2 columns]"
      ]
     },
     "execution_count": 11,
     "metadata": {},
     "output_type": "execute_result"
    }
   ],
   "source": [
    "# We will show how much ConfirmedCases and Fatalities has been caused Countries wise\n",
    "\n",
    "Cases_Country = train.groupby(['Country/Region'], as_index=False)['ConfirmedCases'].max()\n",
    "\n",
    "# Sorting by number of cases\n",
    "Cases_Country.sort_values('ConfirmedCases', ascending=False, inplace = True)\n",
    "Cases_Country"
   ]
  },
  {
   "cell_type": "code",
   "execution_count": 12,
   "metadata": {},
   "outputs": [
    {
     "data": {
      "image/png": "[encoded data removed]",
      "text/plain": [
       "<Figure size 1152x576 with 1 Axes>"
      ]
     },
     "metadata": {
      "needs_background": "light"
     },
     "output_type": "display_data"
    }
   ],
   "source": [
    "# Showing the above data on the graph showing for top 10 countries\n",
    "plt.figure(figsize=(16, 8))\n",
    "plt.bar(Cases_Country['Country/Region'][:10], Cases_Country['ConfirmedCases'][:10], color = ['pink', 'lightyellow','teal','black','grey','lightgrey','purple','Lightblue','Lightgreen','orange'])\n",
    "plt.xlabel(\"Country - Top 10\")\n",
    "plt.ylabel(\"ConfirmedCases\")\n",
    "plt.title(\"ConfirmedCases for Top 10 Countries\")\n",
    "plt.show()"
   ]
  },
  {
   "cell_type": "code",
   "execution_count": 13,
   "metadata": {},
   "outputs": [
    {
     "data": {
      "image/png": "[encoded data removed]",
      "text/plain": [
       "<Figure size 1152x576 with 1 Axes>"
      ]
     },
     "metadata": {
      "needs_background": "light"
     },
     "output_type": "display_data"
    }
   ],
   "source": [
    "# Showing the Graph for Fatalities for Top10 countries\n",
    "\n",
    "Fatalities_Country = train.groupby(['Country/Region'], as_index=False)['Fatalities'].max()\n",
    "\n",
    "# Sorting by number of Fatalities\n",
    "Fatalities_Country.sort_values('Fatalities', ascending=False, inplace = True)\n",
    "\n",
    "plt.figure(figsize=(16, 8))\n",
    "plt.bar(Fatalities_Country['Country/Region'][:10], Fatalities_Country['Fatalities'][:10], color = ['lightgrey','purple','Lightblue','Lightgreen','orange','pink', 'lightyellow','teal','black','grey'])\n",
    "plt.xlabel(\"Country - Top 10\")\n",
    "plt.ylabel(\"Fatalities\")\n",
    "plt.title(\"Fatalities for Top 10 Countries\")\n",
    "plt.show()\n",
    "# Observing ConfirmedCases and Fatalities Graphs, we have noticed that though the Aggregate ConfirmedCases are nea rly the same for Itlay and China,but the Fatalities were more in Italy compared to China.\n",
    "# Same is the case of Iran and Germany.\n",
    "# We can see UK is the last in the TOP10 list in terms of ConfirmedCases, however it's ranked on sixth position in terms of overall Fatalities"
   ]
  },
  {
   "cell_type": "code",
   "execution_count": 14,
   "metadata": {},
   "outputs": [
    {
     "data": {
      "image/png": "[encoded data removed]",
      "text/plain": [
       "<Figure size 1080x360 with 1 Axes>"
      ]
     },
     "metadata": {
      "needs_background": "light"
     },
     "output_type": "display_data"
    },
    {
     "data": {
      "image/png": "[encoded data removed]",
      "text/plain": [
       "<Figure size 1080x360 with 1 Axes>"
      ]
     },
     "metadata": {
      "needs_background": "light"
     },
     "output_type": "display_data"
    },
    {
     "data": {
      "image/png": "[encoded data removed]",
      "text/plain": [
       "<Figure size 1080x360 with 1 Axes>"
      ]
     },
     "metadata": {
      "needs_background": "light"
     },
     "output_type": "display_data"
    },
    {
     "data": {
      "image/png": "[encoded data removed]",
      "text/plain": [
       "<Figure size 1080x360 with 1 Axes>"
      ]
     },
     "metadata": {
      "needs_background": "light"
     },
     "output_type": "display_data"
    },
    {
     "data": {
      "image/png": "[encoded data removed]",
      "text/plain": [
       "<Figure size 1080x360 with 1 Axes>"
      ]
     },
     "metadata": {
      "needs_background": "light"
     },
     "output_type": "display_data"
    },
    {
     "data": {
      "image/png": "[encoded data removed]",
      "text/plain": [
       "<Figure size 1080x360 with 1 Axes>"
      ]
     },
     "metadata": {
      "needs_background": "light"
     },
     "output_type": "display_data"
    }
   ],
   "source": [
    "def cases_vs_date (Date, train):\n",
    "    train = train.groupby(['Country/Region', 'Date'], as_index = False)['ConfirmedCases'].max()\n",
    "    date_filter = (train['Date'] == Date)\n",
    "    train = train.loc[date_filter]\n",
    "    train.sort_values('ConfirmedCases', ascending = False, inplace = True)\n",
    "    sns.catplot(x = 'Country/Region', y = 'ConfirmedCases' , data = train.head(10), height=5,aspect=3, kind = 'bar')\n",
    "    \n",
    "def fatal_vs_date (Date, train):\n",
    "    train = train.groupby(['Country/Region', 'Date'], as_index = False)['Fatalities'].max()\n",
    "    date_filter = (train['Date'] == Date)\n",
    "    train = train.loc[date_filter]\n",
    "    train.sort_values('Fatalities', ascending = False, inplace = True)\n",
    "    sns.catplot(x = 'Country/Region', y = 'Fatalities' , data = train.head(10), height=5,aspect=3, kind = 'bar')\n",
    "    \n",
    "    \n",
    "cases_vs_date('2020-01-31', train)\n",
    "cases_vs_date('2020-02-29', train)\n",
    "cases_vs_date('2020-03-24', train)\n",
    "\n",
    "fatal_vs_date('2020-01-31', train)\n",
    "fatal_vs_date('2020-02-29', train)\n",
    "fatal_vs_date('2020-03-24', train)\n",
    "\n",
    "# As we can see below based on the month end data for each month we have noticed that in January there were only cases (ConfirmedCases and Fatalities) were China. \n",
    "# For February we have noticed that this started spreading in other countries like South Korea, Itlay and Iran\n",
    "\n",
    "# For March we can see the Confirmed Cases for particular country like Iran was less but the Fatalities are more in comparision to it"
   ]
  },
  {
   "cell_type": "code",
   "execution_count": 15,
   "metadata": {},
   "outputs": [
    {
     "data": {
      "text/plain": [
       "<matplotlib.axes._subplots.AxesSubplot at 0x199f7330308>"
      ]
     },
     "execution_count": 15,
     "metadata": {},
     "output_type": "execute_result"
    },
    {
     "data": {
      "image/png": "[encoded data removed]",
      "text/plain": [
       "<Figure size 432x288 with 1 Axes>"
      ]
     },
     "metadata": {
      "needs_background": "light"
     },
     "output_type": "display_data"
    }
   ],
   "source": [
    "# Seeing the data for the TOP 10 countries with the confirmed cases:\n",
    "train_cases=train.groupby('Country/Region')['ConfirmedCases','Fatalities'].max().reset_index().sort_values('ConfirmedCases',ascending=False)    \n",
    "train_cases['Fatal rate (in %)'] = train_cases['Fatalities']/train_cases['ConfirmedCases']\n",
    "Top10_traindata=train_cases[:10]\n",
    "sns.barplot(y='Country/Region',x='Fatal rate (in %)',data=Top10_traindata)\n",
    "\n",
    "## Here we can see that Fatalities per ConfirmedCases are more in Italy followed by Iran and then Spain\n",
    "# Similar to what we have seen above"
   ]
  },
  {
   "cell_type": "code",
   "execution_count": 16,
   "metadata": {},
   "outputs": [
    {
     "data": {
      "image/png": "[encoded data removed]",
      "text/plain": [
       "<Figure size 1584x504 with 1 Axes>"
      ]
     },
     "metadata": {
      "needs_background": "light"
     },
     "output_type": "display_data"
    }
   ],
   "source": [
    "train_cases=train.groupby('Country/Region')['ConfirmedCases','Fatalities'].max().reset_index().sort_values('ConfirmedCases',ascending=False)    \n",
    "\n",
    "plt.figure(figsize=(22,7))\n",
    "plt.bar(train_cases['Country/Region'][:10],train_cases['ConfirmedCases'][:10])\n",
    "plt.bar(train_cases['Country/Region'][:10],train_cases['Fatalities'][:10])\n",
    "plt.legend(['Blue Color: Confirmed cases and Orange Color : Fatality'])\n",
    "plt.xlabel(\"Top 10 Countries\")\n",
    "plt.ylabel(\"Confirmed/Fatalities\")\n",
    "plt.title(\"Confirmed vs Fatalities for Top 10 Countries\")\n",
    "plt.show()\n",
    "\n",
    "# We can see below the Top 10 countries with more of the ConfirmedCases report in the period of Mid Jan to Mid March"
   ]
  },
  {
   "cell_type": "code",
   "execution_count": 17,
   "metadata": {},
   "outputs": [
    {
     "data": {
      "text/plain": [
       "Text(0.5, 0, 'Date')"
      ]
     },
     "execution_count": 17,
     "metadata": {},
     "output_type": "execute_result"
    },
    {
     "data": {
      "image/png": "[encoded data removed]",
      "text/plain": [
       "<Figure size 1224x504 with 2 Axes>"
      ]
     },
     "metadata": {
      "needs_background": "light"
     },
     "output_type": "display_data"
    }
   ],
   "source": [
    "confirmed_total_date = train.groupby(['Date']).agg({'ConfirmedCases':['sum']})\n",
    "fatalities_total_date = train.groupby(['Date']).agg({'Fatalities':['sum']})\n",
    "total_date = confirmed_total_date.join(fatalities_total_date)\n",
    "\n",
    "fig, (ax1, ax2) = plt.subplots(1, 2, figsize=(17,7))\n",
    "total_date.plot(ax=ax1)\n",
    "ax1.set_title(\"Global Confirmedcases\", size=14)\n",
    "ax1.set_ylabel(\"Number of cases\", size=14)\n",
    "ax1.set_xlabel(\"Date\", size=14)\n",
    "fatalities_total_date.plot(ax=ax2, color='orange')\n",
    "ax2.set_title(\"Global Fatalities\", size=13)\n",
    "ax2.set_ylabel(\"Number of cases\", size=13)\n",
    "ax2.set_xlabel(\"Date\", size=13)\n",
    "\n",
    "# Below we can see that ConfirmedCases started increasing after Feb 11th and then getting steep after March 12\n",
    "# For Fatalities we can see almost the same criteria"
   ]
  },
  {
   "cell_type": "markdown",
   "metadata": {},
   "source": [
    "# Data Preprocessing"
   ]
  },
  {
   "cell_type": "code",
   "execution_count": 18,
   "metadata": {},
   "outputs": [
    {
     "data": {
      "text/html": [
       "<div>\n",
       "<style scoped>\n",
       "    .dataframe tbody tr th:only-of-type {\n",
       "        vertical-align: middle;\n",
       "    }\n",
       "\n",
       "    .dataframe tbody tr th {\n",
       "        vertical-align: top;\n",
       "    }\n",
       "\n",
       "    .dataframe thead th {\n",
       "        text-align: right;\n",
       "    }\n",
       "</style>\n",
       "<table border=\"1\" class=\"dataframe\">\n",
       "  <thead>\n",
       "    <tr style=\"text-align: right;\">\n",
       "      <th></th>\n",
       "      <th>Province/State</th>\n",
       "      <th>Country/Region</th>\n",
       "      <th>Lat</th>\n",
       "      <th>Long</th>\n",
       "      <th>Date</th>\n",
       "      <th>Month</th>\n",
       "      <th>ConfirmedCases</th>\n",
       "      <th>Fatalities</th>\n",
       "    </tr>\n",
       "  </thead>\n",
       "  <tbody>\n",
       "    <tr>\n",
       "      <td>0</td>\n",
       "      <td></td>\n",
       "      <td>Afghanistan</td>\n",
       "      <td>33.0</td>\n",
       "      <td>65.0</td>\n",
       "      <td>20200122</td>\n",
       "      <td>Jan</td>\n",
       "      <td>0.0</td>\n",
       "      <td>0.0</td>\n",
       "    </tr>\n",
       "    <tr>\n",
       "      <td>1</td>\n",
       "      <td></td>\n",
       "      <td>Afghanistan</td>\n",
       "      <td>33.0</td>\n",
       "      <td>65.0</td>\n",
       "      <td>20200123</td>\n",
       "      <td>Jan</td>\n",
       "      <td>0.0</td>\n",
       "      <td>0.0</td>\n",
       "    </tr>\n",
       "    <tr>\n",
       "      <td>2</td>\n",
       "      <td></td>\n",
       "      <td>Afghanistan</td>\n",
       "      <td>33.0</td>\n",
       "      <td>65.0</td>\n",
       "      <td>20200124</td>\n",
       "      <td>Jan</td>\n",
       "      <td>0.0</td>\n",
       "      <td>0.0</td>\n",
       "    </tr>\n",
       "    <tr>\n",
       "      <td>3</td>\n",
       "      <td></td>\n",
       "      <td>Afghanistan</td>\n",
       "      <td>33.0</td>\n",
       "      <td>65.0</td>\n",
       "      <td>20200125</td>\n",
       "      <td>Jan</td>\n",
       "      <td>0.0</td>\n",
       "      <td>0.0</td>\n",
       "    </tr>\n",
       "    <tr>\n",
       "      <td>4</td>\n",
       "      <td></td>\n",
       "      <td>Afghanistan</td>\n",
       "      <td>33.0</td>\n",
       "      <td>65.0</td>\n",
       "      <td>20200126</td>\n",
       "      <td>Jan</td>\n",
       "      <td>0.0</td>\n",
       "      <td>0.0</td>\n",
       "    </tr>\n",
       "  </tbody>\n",
       "</table>\n",
       "</div>"
      ],
      "text/plain": [
       "  Province/State Country/Region   Lat  Long      Date Month  ConfirmedCases  \\\n",
       "0                   Afghanistan  33.0  65.0  20200122   Jan             0.0   \n",
       "1                   Afghanistan  33.0  65.0  20200123   Jan             0.0   \n",
       "2                   Afghanistan  33.0  65.0  20200124   Jan             0.0   \n",
       "3                   Afghanistan  33.0  65.0  20200125   Jan             0.0   \n",
       "4                   Afghanistan  33.0  65.0  20200126   Jan             0.0   \n",
       "\n",
       "   Fatalities  \n",
       "0         0.0  \n",
       "1         0.0  \n",
       "2         0.0  \n",
       "3         0.0  \n",
       "4         0.0  "
      ]
     },
     "execution_count": 18,
     "metadata": {},
     "output_type": "execute_result"
    }
   ],
   "source": [
    "#filling NaN with blanks\n",
    "Cleaned_train = train['Province/State'].fillna(\" \", inplace = True)\n",
    "\n",
    "#Formatting Date for future prediction\n",
    "train[\"Date\"] = train[\"Date\"].apply(lambda x: x.replace(\"-\",\"\"))\n",
    "train[\"Date\"] = train[\"Date\"].astype(int)\n",
    "\n",
    "#droping ID column\n",
    "train = train.drop('Id', axis = 1)\n",
    "\n",
    "train.head()"
   ]
  },
  {
   "cell_type": "code",
   "execution_count": 19,
   "metadata": {},
   "outputs": [
    {
     "data": {
      "text/html": [
       "<div>\n",
       "<style scoped>\n",
       "    .dataframe tbody tr th:only-of-type {\n",
       "        vertical-align: middle;\n",
       "    }\n",
       "\n",
       "    .dataframe tbody tr th {\n",
       "        vertical-align: top;\n",
       "    }\n",
       "\n",
       "    .dataframe thead th {\n",
       "        text-align: right;\n",
       "    }\n",
       "</style>\n",
       "<table border=\"1\" class=\"dataframe\">\n",
       "  <thead>\n",
       "    <tr style=\"text-align: right;\">\n",
       "      <th></th>\n",
       "      <th>ForecastId</th>\n",
       "      <th>Province/State</th>\n",
       "      <th>Country/Region</th>\n",
       "      <th>Lat</th>\n",
       "      <th>Long</th>\n",
       "      <th>Date</th>\n",
       "    </tr>\n",
       "  </thead>\n",
       "  <tbody>\n",
       "    <tr>\n",
       "      <td>0</td>\n",
       "      <td>1</td>\n",
       "      <td>NaN</td>\n",
       "      <td>Afghanistan</td>\n",
       "      <td>33.0</td>\n",
       "      <td>65.0</td>\n",
       "      <td>20200312</td>\n",
       "    </tr>\n",
       "    <tr>\n",
       "      <td>1</td>\n",
       "      <td>2</td>\n",
       "      <td>NaN</td>\n",
       "      <td>Afghanistan</td>\n",
       "      <td>33.0</td>\n",
       "      <td>65.0</td>\n",
       "      <td>20200313</td>\n",
       "    </tr>\n",
       "    <tr>\n",
       "      <td>2</td>\n",
       "      <td>3</td>\n",
       "      <td>NaN</td>\n",
       "      <td>Afghanistan</td>\n",
       "      <td>33.0</td>\n",
       "      <td>65.0</td>\n",
       "      <td>20200314</td>\n",
       "    </tr>\n",
       "    <tr>\n",
       "      <td>3</td>\n",
       "      <td>4</td>\n",
       "      <td>NaN</td>\n",
       "      <td>Afghanistan</td>\n",
       "      <td>33.0</td>\n",
       "      <td>65.0</td>\n",
       "      <td>20200315</td>\n",
       "    </tr>\n",
       "    <tr>\n",
       "      <td>4</td>\n",
       "      <td>5</td>\n",
       "      <td>NaN</td>\n",
       "      <td>Afghanistan</td>\n",
       "      <td>33.0</td>\n",
       "      <td>65.0</td>\n",
       "      <td>20200316</td>\n",
       "    </tr>\n",
       "  </tbody>\n",
       "</table>\n",
       "</div>"
      ],
      "text/plain": [
       "   ForecastId Province/State Country/Region   Lat  Long      Date\n",
       "0           1            NaN    Afghanistan  33.0  65.0  20200312\n",
       "1           2            NaN    Afghanistan  33.0  65.0  20200313\n",
       "2           3            NaN    Afghanistan  33.0  65.0  20200314\n",
       "3           4            NaN    Afghanistan  33.0  65.0  20200315\n",
       "4           5            NaN    Afghanistan  33.0  65.0  20200316"
      ]
     },
     "execution_count": 19,
     "metadata": {},
     "output_type": "execute_result"
    }
   ],
   "source": [
    "#Cleaning the test data\n",
    "test['Date'] = pd.to_numeric(test.Date.str.replace('-',''))\n",
    "test[\"Date\"]  = test[\"Date\"].astype(int)\n",
    "test.head()"
   ]
  },
  {
   "cell_type": "markdown",
   "metadata": {},
   "source": [
    "# Training the prediction Algorithm"
   ]
  },
  {
   "cell_type": "code",
   "execution_count": 20,
   "metadata": {},
   "outputs": [],
   "source": [
    "#Assiging the columns:\n",
    "X = train[['Lat', 'Long', 'Date']]\n",
    "y_confirm = train[['ConfirmedCases']]\n",
    "y_fatal = train[['Fatalities']]\n",
    "X_test = test[['Lat', 'Long', 'Date']]"
   ]
  },
  {
   "cell_type": "code",
   "execution_count": 21,
   "metadata": {
    "scrolled": true
   },
   "outputs": [
    {
     "name": "stderr",
     "output_type": "stream",
     "text": [
      "C:\\Users\\nehaa\\Anaconda3\\lib\\site-packages\\ipykernel_launcher.py:3: DataConversionWarning: A column-vector y was passed when a 1d array was expected. Please change the shape of y to (n_samples,), for example using ravel().\n",
      "  This is separate from the ipykernel package so we can avoid doing imports until\n"
     ]
    },
    {
     "data": {
      "text/plain": [
       "RandomForestRegressor(random_state=42)"
      ]
     },
     "execution_count": 21,
     "metadata": {},
     "output_type": "execute_result"
    }
   ],
   "source": [
    "# Applying RandonForestRegression on Confirmedcases\n",
    "classifier = RandomForestRegressor(random_state = 42)\n",
    "classifier.fit(X,y_confirm)\n"
   ]
  },
  {
   "cell_type": "code",
   "execution_count": 22,
   "metadata": {},
   "outputs": [
    {
     "data": {
      "text/html": [
       "<div>\n",
       "<style scoped>\n",
       "    .dataframe tbody tr th:only-of-type {\n",
       "        vertical-align: middle;\n",
       "    }\n",
       "\n",
       "    .dataframe tbody tr th {\n",
       "        vertical-align: top;\n",
       "    }\n",
       "\n",
       "    .dataframe thead th {\n",
       "        text-align: right;\n",
       "    }\n",
       "</style>\n",
       "<table border=\"1\" class=\"dataframe\">\n",
       "  <thead>\n",
       "    <tr style=\"text-align: right;\">\n",
       "      <th></th>\n",
       "      <th>ConfirmedCases_prediction</th>\n",
       "    </tr>\n",
       "  </thead>\n",
       "  <tbody>\n",
       "    <tr>\n",
       "      <td>0</td>\n",
       "      <td>8.0</td>\n",
       "    </tr>\n",
       "    <tr>\n",
       "      <td>1</td>\n",
       "      <td>8.0</td>\n",
       "    </tr>\n",
       "    <tr>\n",
       "      <td>2</td>\n",
       "      <td>12.0</td>\n",
       "    </tr>\n",
       "    <tr>\n",
       "      <td>3</td>\n",
       "      <td>21.0</td>\n",
       "    </tr>\n",
       "    <tr>\n",
       "      <td>4</td>\n",
       "      <td>21.0</td>\n",
       "    </tr>\n",
       "  </tbody>\n",
       "</table>\n",
       "</div>"
      ],
      "text/plain": [
       "   ConfirmedCases_prediction\n",
       "0                        8.0\n",
       "1                        8.0\n",
       "2                       12.0\n",
       "3                       21.0\n",
       "4                       21.0"
      ]
     },
     "execution_count": 22,
     "metadata": {},
     "output_type": "execute_result"
    }
   ],
   "source": [
    "Prediction = classifier.predict(X_test)\n",
    "Prediction = pd.DataFrame(Prediction).round()\n",
    "Prediction.columns = [\"ConfirmedCases_prediction\"]\n",
    "Prediction.head()"
   ]
  },
  {
   "cell_type": "code",
   "execution_count": 23,
   "metadata": {},
   "outputs": [
    {
     "name": "stderr",
     "output_type": "stream",
     "text": [
      "C:\\Users\\nehaa\\Anaconda3\\lib\\site-packages\\ipykernel_launcher.py:3: DataConversionWarning: A column-vector y was passed when a 1d array was expected. Please change the shape of y to (n_samples,), for example using ravel().\n",
      "  This is separate from the ipykernel package so we can avoid doing imports until\n"
     ]
    },
    {
     "data": {
      "text/html": [
       "<div>\n",
       "<style scoped>\n",
       "    .dataframe tbody tr th:only-of-type {\n",
       "        vertical-align: middle;\n",
       "    }\n",
       "\n",
       "    .dataframe tbody tr th {\n",
       "        vertical-align: top;\n",
       "    }\n",
       "\n",
       "    .dataframe thead th {\n",
       "        text-align: right;\n",
       "    }\n",
       "</style>\n",
       "<table border=\"1\" class=\"dataframe\">\n",
       "  <thead>\n",
       "    <tr style=\"text-align: right;\">\n",
       "      <th></th>\n",
       "      <th>Fatalities_Prediction</th>\n",
       "    </tr>\n",
       "  </thead>\n",
       "  <tbody>\n",
       "    <tr>\n",
       "      <td>0</td>\n",
       "      <td>0.0</td>\n",
       "    </tr>\n",
       "    <tr>\n",
       "      <td>1</td>\n",
       "      <td>0.0</td>\n",
       "    </tr>\n",
       "    <tr>\n",
       "      <td>2</td>\n",
       "      <td>0.0</td>\n",
       "    </tr>\n",
       "    <tr>\n",
       "      <td>3</td>\n",
       "      <td>0.0</td>\n",
       "    </tr>\n",
       "    <tr>\n",
       "      <td>4</td>\n",
       "      <td>0.0</td>\n",
       "    </tr>\n",
       "  </tbody>\n",
       "</table>\n",
       "</div>"
      ],
      "text/plain": [
       "   Fatalities_Prediction\n",
       "0                    0.0\n",
       "1                    0.0\n",
       "2                    0.0\n",
       "3                    0.0\n",
       "4                    0.0"
      ]
     },
     "execution_count": 23,
     "metadata": {},
     "output_type": "execute_result"
    }
   ],
   "source": [
    "# Applying RandonForestRegression on Fatalities\n",
    "classifier = RandomForestRegressor(random_state = 42)\n",
    "classifier.fit(X,y_fatal)\n",
    "\n",
    "#Predicting the Fatalities\n",
    "Prediction2 = classifier.predict(X_test)\n",
    "Prediction2 = pd.DataFrame(Prediction2).round()\n",
    "Prediction2.columns = [\"Fatalities_Prediction\"]\n",
    "Prediction2.head()"
   ]
  },
  {
   "cell_type": "code",
   "execution_count": 24,
   "metadata": {},
   "outputs": [
    {
     "data": {
      "text/plain": [
       "DecisionTreeRegressor(random_state=42)"
      ]
     },
     "execution_count": 24,
     "metadata": {},
     "output_type": "execute_result"
    }
   ],
   "source": [
    " # Checking with DecisionTree Regressor\n",
    "\n",
    "Classifier_Tree = DecisionTreeRegressor(random_state=42)\n",
    "Classifier_Tree.fit(X,y_confirm)"
   ]
  },
  {
   "cell_type": "code",
   "execution_count": 25,
   "metadata": {},
   "outputs": [
    {
     "data": {
      "text/html": [
       "<div>\n",
       "<style scoped>\n",
       "    .dataframe tbody tr th:only-of-type {\n",
       "        vertical-align: middle;\n",
       "    }\n",
       "\n",
       "    .dataframe tbody tr th {\n",
       "        vertical-align: top;\n",
       "    }\n",
       "\n",
       "    .dataframe thead th {\n",
       "        text-align: right;\n",
       "    }\n",
       "</style>\n",
       "<table border=\"1\" class=\"dataframe\">\n",
       "  <thead>\n",
       "    <tr style=\"text-align: right;\">\n",
       "      <th></th>\n",
       "      <th>ConfirmedCases_predictiontree</th>\n",
       "    </tr>\n",
       "  </thead>\n",
       "  <tbody>\n",
       "    <tr>\n",
       "      <td>0</td>\n",
       "      <td>7.0</td>\n",
       "    </tr>\n",
       "    <tr>\n",
       "      <td>1</td>\n",
       "      <td>7.0</td>\n",
       "    </tr>\n",
       "    <tr>\n",
       "      <td>2</td>\n",
       "      <td>11.0</td>\n",
       "    </tr>\n",
       "    <tr>\n",
       "      <td>3</td>\n",
       "      <td>20.0</td>\n",
       "    </tr>\n",
       "    <tr>\n",
       "      <td>4</td>\n",
       "      <td>20.0</td>\n",
       "    </tr>\n",
       "  </tbody>\n",
       "</table>\n",
       "</div>"
      ],
      "text/plain": [
       "   ConfirmedCases_predictiontree\n",
       "0                            7.0\n",
       "1                            7.0\n",
       "2                           11.0\n",
       "3                           20.0\n",
       "4                           20.0"
      ]
     },
     "execution_count": 25,
     "metadata": {},
     "output_type": "execute_result"
    }
   ],
   "source": [
    "# Predicting the Confirmed Cases\n",
    "Predictiontree = Classifier_Tree.predict(X_test)\n",
    "Predictiontree = pd.DataFrame(Predictiontree).round()\n",
    "Predictiontree.columns = [\"ConfirmedCases_predictiontree\"]\n",
    "Predictiontree.head()"
   ]
  },
  {
   "cell_type": "code",
   "execution_count": 26,
   "metadata": {},
   "outputs": [
    {
     "data": {
      "text/html": [
       "<div>\n",
       "<style scoped>\n",
       "    .dataframe tbody tr th:only-of-type {\n",
       "        vertical-align: middle;\n",
       "    }\n",
       "\n",
       "    .dataframe tbody tr th {\n",
       "        vertical-align: top;\n",
       "    }\n",
       "\n",
       "    .dataframe thead th {\n",
       "        text-align: right;\n",
       "    }\n",
       "</style>\n",
       "<table border=\"1\" class=\"dataframe\">\n",
       "  <thead>\n",
       "    <tr style=\"text-align: right;\">\n",
       "      <th></th>\n",
       "      <th>Fatality_predictiontree</th>\n",
       "    </tr>\n",
       "  </thead>\n",
       "  <tbody>\n",
       "    <tr>\n",
       "      <td>0</td>\n",
       "      <td>0.0</td>\n",
       "    </tr>\n",
       "    <tr>\n",
       "      <td>1</td>\n",
       "      <td>0.0</td>\n",
       "    </tr>\n",
       "    <tr>\n",
       "      <td>2</td>\n",
       "      <td>0.0</td>\n",
       "    </tr>\n",
       "    <tr>\n",
       "      <td>3</td>\n",
       "      <td>0.0</td>\n",
       "    </tr>\n",
       "    <tr>\n",
       "      <td>4</td>\n",
       "      <td>0.0</td>\n",
       "    </tr>\n",
       "  </tbody>\n",
       "</table>\n",
       "</div>"
      ],
      "text/plain": [
       "   Fatality_predictiontree\n",
       "0                      0.0\n",
       "1                      0.0\n",
       "2                      0.0\n",
       "3                      0.0\n",
       "4                      0.0"
      ]
     },
     "execution_count": 26,
     "metadata": {},
     "output_type": "execute_result"
    }
   ],
   "source": [
    "## Predicting the Fatalities Cases\n",
    "\n",
    "Classifier_Tree=DecisionTreeRegressor(random_state=42)\n",
    "Classifier_Tree.fit(X,y_fatal)\n",
    "\n",
    "Predictiontree2 = Classifier_Tree.predict(X_test)\n",
    "Predictiontree2 = pd.DataFrame(Predictiontree2).round()\n",
    "Predictiontree2.columns = [\"Fatality_predictiontree\"]\n",
    "Predictiontree2.head()\n",
    "\n"
   ]
  },
  {
   "cell_type": "markdown",
   "metadata": {},
   "source": [
    "# Adding the Predictions to the test data and analysing the results"
   ]
  },
  {
   "cell_type": "code",
   "execution_count": 27,
   "metadata": {},
   "outputs": [
    {
     "data": {
      "text/html": [
       "<div>\n",
       "<style scoped>\n",
       "    .dataframe tbody tr th:only-of-type {\n",
       "        vertical-align: middle;\n",
       "    }\n",
       "\n",
       "    .dataframe tbody tr th {\n",
       "        vertical-align: top;\n",
       "    }\n",
       "\n",
       "    .dataframe thead th {\n",
       "        text-align: right;\n",
       "    }\n",
       "</style>\n",
       "<table border=\"1\" class=\"dataframe\">\n",
       "  <thead>\n",
       "    <tr style=\"text-align: right;\">\n",
       "      <th></th>\n",
       "      <th>ForecastId</th>\n",
       "      <th>Province/State</th>\n",
       "      <th>Country/Region</th>\n",
       "      <th>Lat</th>\n",
       "      <th>Long</th>\n",
       "      <th>Date</th>\n",
       "    </tr>\n",
       "  </thead>\n",
       "  <tbody>\n",
       "    <tr>\n",
       "      <td>0</td>\n",
       "      <td>1</td>\n",
       "      <td>NaN</td>\n",
       "      <td>Afghanistan</td>\n",
       "      <td>33.0</td>\n",
       "      <td>65.0</td>\n",
       "      <td>2020-03-12</td>\n",
       "    </tr>\n",
       "    <tr>\n",
       "      <td>1</td>\n",
       "      <td>2</td>\n",
       "      <td>NaN</td>\n",
       "      <td>Afghanistan</td>\n",
       "      <td>33.0</td>\n",
       "      <td>65.0</td>\n",
       "      <td>2020-03-13</td>\n",
       "    </tr>\n",
       "    <tr>\n",
       "      <td>2</td>\n",
       "      <td>3</td>\n",
       "      <td>NaN</td>\n",
       "      <td>Afghanistan</td>\n",
       "      <td>33.0</td>\n",
       "      <td>65.0</td>\n",
       "      <td>2020-03-14</td>\n",
       "    </tr>\n",
       "    <tr>\n",
       "      <td>3</td>\n",
       "      <td>4</td>\n",
       "      <td>NaN</td>\n",
       "      <td>Afghanistan</td>\n",
       "      <td>33.0</td>\n",
       "      <td>65.0</td>\n",
       "      <td>2020-03-15</td>\n",
       "    </tr>\n",
       "    <tr>\n",
       "      <td>4</td>\n",
       "      <td>5</td>\n",
       "      <td>NaN</td>\n",
       "      <td>Afghanistan</td>\n",
       "      <td>33.0</td>\n",
       "      <td>65.0</td>\n",
       "      <td>2020-03-16</td>\n",
       "    </tr>\n",
       "  </tbody>\n",
       "</table>\n",
       "</div>"
      ],
      "text/plain": [
       "   ForecastId Province/State Country/Region   Lat  Long       Date\n",
       "0           1            NaN    Afghanistan  33.0  65.0 2020-03-12\n",
       "1           2            NaN    Afghanistan  33.0  65.0 2020-03-13\n",
       "2           3            NaN    Afghanistan  33.0  65.0 2020-03-14\n",
       "3           4            NaN    Afghanistan  33.0  65.0 2020-03-15\n",
       "4           5            NaN    Afghanistan  33.0  65.0 2020-03-16"
      ]
     },
     "execution_count": 27,
     "metadata": {},
     "output_type": "execute_result"
    }
   ],
   "source": [
    "# Converting back the 'Date' format in test data\n",
    "from datetime import datetime\n",
    "test['Date'] = pd.to_datetime(test['Date'].astype(str), format ='%Y-%m-%d')\n",
    "test.head()"
   ]
  },
  {
   "cell_type": "raw",
   "metadata": {},
   "source": [
    "# We make predictions by using two ML algorithm, however I will use RandomForest Predictions in our Test data \n",
    "# RandomForestRegressor aggregate many decision trees to limit overfitting as well as error due to bias and therefore yield useful results"
   ]
  },
  {
   "cell_type": "code",
   "execution_count": 28,
   "metadata": {},
   "outputs": [
    {
     "data": {
      "text/html": [
       "<div>\n",
       "<style scoped>\n",
       "    .dataframe tbody tr th:only-of-type {\n",
       "        vertical-align: middle;\n",
       "    }\n",
       "\n",
       "    .dataframe tbody tr th {\n",
       "        vertical-align: top;\n",
       "    }\n",
       "\n",
       "    .dataframe thead th {\n",
       "        text-align: right;\n",
       "    }\n",
       "</style>\n",
       "<table border=\"1\" class=\"dataframe\">\n",
       "  <thead>\n",
       "    <tr style=\"text-align: right;\">\n",
       "      <th></th>\n",
       "      <th>ForecastId</th>\n",
       "      <th>Province/State</th>\n",
       "      <th>Country/Region</th>\n",
       "      <th>Lat</th>\n",
       "      <th>Long</th>\n",
       "      <th>Date</th>\n",
       "      <th>ConfirmedCases_prediction</th>\n",
       "      <th>Fatalities_Prediction</th>\n",
       "    </tr>\n",
       "  </thead>\n",
       "  <tbody>\n",
       "    <tr>\n",
       "      <td>0</td>\n",
       "      <td>1</td>\n",
       "      <td>NaN</td>\n",
       "      <td>Afghanistan</td>\n",
       "      <td>33.0</td>\n",
       "      <td>65.0</td>\n",
       "      <td>2020-03-12</td>\n",
       "      <td>8.0</td>\n",
       "      <td>0.0</td>\n",
       "    </tr>\n",
       "    <tr>\n",
       "      <td>1</td>\n",
       "      <td>2</td>\n",
       "      <td>NaN</td>\n",
       "      <td>Afghanistan</td>\n",
       "      <td>33.0</td>\n",
       "      <td>65.0</td>\n",
       "      <td>2020-03-13</td>\n",
       "      <td>8.0</td>\n",
       "      <td>0.0</td>\n",
       "    </tr>\n",
       "    <tr>\n",
       "      <td>2</td>\n",
       "      <td>3</td>\n",
       "      <td>NaN</td>\n",
       "      <td>Afghanistan</td>\n",
       "      <td>33.0</td>\n",
       "      <td>65.0</td>\n",
       "      <td>2020-03-14</td>\n",
       "      <td>12.0</td>\n",
       "      <td>0.0</td>\n",
       "    </tr>\n",
       "    <tr>\n",
       "      <td>3</td>\n",
       "      <td>4</td>\n",
       "      <td>NaN</td>\n",
       "      <td>Afghanistan</td>\n",
       "      <td>33.0</td>\n",
       "      <td>65.0</td>\n",
       "      <td>2020-03-15</td>\n",
       "      <td>21.0</td>\n",
       "      <td>0.0</td>\n",
       "    </tr>\n",
       "    <tr>\n",
       "      <td>4</td>\n",
       "      <td>5</td>\n",
       "      <td>NaN</td>\n",
       "      <td>Afghanistan</td>\n",
       "      <td>33.0</td>\n",
       "      <td>65.0</td>\n",
       "      <td>2020-03-16</td>\n",
       "      <td>21.0</td>\n",
       "      <td>0.0</td>\n",
       "    </tr>\n",
       "    <tr>\n",
       "      <td>5</td>\n",
       "      <td>6</td>\n",
       "      <td>NaN</td>\n",
       "      <td>Afghanistan</td>\n",
       "      <td>33.0</td>\n",
       "      <td>65.0</td>\n",
       "      <td>2020-03-17</td>\n",
       "      <td>21.0</td>\n",
       "      <td>0.0</td>\n",
       "    </tr>\n",
       "    <tr>\n",
       "      <td>6</td>\n",
       "      <td>7</td>\n",
       "      <td>NaN</td>\n",
       "      <td>Afghanistan</td>\n",
       "      <td>33.0</td>\n",
       "      <td>65.0</td>\n",
       "      <td>2020-03-18</td>\n",
       "      <td>25.0</td>\n",
       "      <td>0.0</td>\n",
       "    </tr>\n",
       "    <tr>\n",
       "      <td>7</td>\n",
       "      <td>8</td>\n",
       "      <td>NaN</td>\n",
       "      <td>Afghanistan</td>\n",
       "      <td>33.0</td>\n",
       "      <td>65.0</td>\n",
       "      <td>2020-03-19</td>\n",
       "      <td>26.0</td>\n",
       "      <td>0.0</td>\n",
       "    </tr>\n",
       "    <tr>\n",
       "      <td>8</td>\n",
       "      <td>9</td>\n",
       "      <td>NaN</td>\n",
       "      <td>Afghanistan</td>\n",
       "      <td>33.0</td>\n",
       "      <td>65.0</td>\n",
       "      <td>2020-03-20</td>\n",
       "      <td>26.0</td>\n",
       "      <td>0.0</td>\n",
       "    </tr>\n",
       "    <tr>\n",
       "      <td>9</td>\n",
       "      <td>10</td>\n",
       "      <td>NaN</td>\n",
       "      <td>Afghanistan</td>\n",
       "      <td>33.0</td>\n",
       "      <td>65.0</td>\n",
       "      <td>2020-03-21</td>\n",
       "      <td>26.0</td>\n",
       "      <td>0.0</td>\n",
       "    </tr>\n",
       "  </tbody>\n",
       "</table>\n",
       "</div>"
      ],
      "text/plain": [
       "   ForecastId Province/State Country/Region   Lat  Long       Date  \\\n",
       "0           1            NaN    Afghanistan  33.0  65.0 2020-03-12   \n",
       "1           2            NaN    Afghanistan  33.0  65.0 2020-03-13   \n",
       "2           3            NaN    Afghanistan  33.0  65.0 2020-03-14   \n",
       "3           4            NaN    Afghanistan  33.0  65.0 2020-03-15   \n",
       "4           5            NaN    Afghanistan  33.0  65.0 2020-03-16   \n",
       "5           6            NaN    Afghanistan  33.0  65.0 2020-03-17   \n",
       "6           7            NaN    Afghanistan  33.0  65.0 2020-03-18   \n",
       "7           8            NaN    Afghanistan  33.0  65.0 2020-03-19   \n",
       "8           9            NaN    Afghanistan  33.0  65.0 2020-03-20   \n",
       "9          10            NaN    Afghanistan  33.0  65.0 2020-03-21   \n",
       "\n",
       "   ConfirmedCases_prediction  Fatalities_Prediction  \n",
       "0                        8.0                    0.0  \n",
       "1                        8.0                    0.0  \n",
       "2                       12.0                    0.0  \n",
       "3                       21.0                    0.0  \n",
       "4                       21.0                    0.0  \n",
       "5                       21.0                    0.0  \n",
       "6                       25.0                    0.0  \n",
       "7                       26.0                    0.0  \n",
       "8                       26.0                    0.0  \n",
       "9                       26.0                    0.0  "
      ]
     },
     "execution_count": 28,
     "metadata": {},
     "output_type": "execute_result"
    }
   ],
   "source": [
    "test = pd.concat([test, Prediction, Prediction2], axis = 1)\n",
    "test.head(10)"
   ]
  },
  {
   "cell_type": "code",
   "execution_count": 29,
   "metadata": {},
   "outputs": [
    {
     "data": {
      "text/html": [
       "<div>\n",
       "<style scoped>\n",
       "    .dataframe tbody tr th:only-of-type {\n",
       "        vertical-align: middle;\n",
       "    }\n",
       "\n",
       "    .dataframe tbody tr th {\n",
       "        vertical-align: top;\n",
       "    }\n",
       "\n",
       "    .dataframe thead th {\n",
       "        text-align: right;\n",
       "    }\n",
       "</style>\n",
       "<table border=\"1\" class=\"dataframe\">\n",
       "  <thead>\n",
       "    <tr style=\"text-align: right;\">\n",
       "      <th></th>\n",
       "      <th>ForecastId</th>\n",
       "      <th>Province/State</th>\n",
       "      <th>Country/Region</th>\n",
       "      <th>Lat</th>\n",
       "      <th>Long</th>\n",
       "      <th>Date</th>\n",
       "      <th>Month</th>\n",
       "      <th>ConfirmedCases_prediction</th>\n",
       "      <th>Fatalities_Prediction</th>\n",
       "    </tr>\n",
       "  </thead>\n",
       "  <tbody>\n",
       "    <tr>\n",
       "      <td>0</td>\n",
       "      <td>1</td>\n",
       "      <td>NaN</td>\n",
       "      <td>Afghanistan</td>\n",
       "      <td>33.0</td>\n",
       "      <td>65.0</td>\n",
       "      <td>2020-03-12</td>\n",
       "      <td>Mar</td>\n",
       "      <td>8.0</td>\n",
       "      <td>0.0</td>\n",
       "    </tr>\n",
       "    <tr>\n",
       "      <td>1</td>\n",
       "      <td>2</td>\n",
       "      <td>NaN</td>\n",
       "      <td>Afghanistan</td>\n",
       "      <td>33.0</td>\n",
       "      <td>65.0</td>\n",
       "      <td>2020-03-13</td>\n",
       "      <td>Mar</td>\n",
       "      <td>8.0</td>\n",
       "      <td>0.0</td>\n",
       "    </tr>\n",
       "    <tr>\n",
       "      <td>2</td>\n",
       "      <td>3</td>\n",
       "      <td>NaN</td>\n",
       "      <td>Afghanistan</td>\n",
       "      <td>33.0</td>\n",
       "      <td>65.0</td>\n",
       "      <td>2020-03-14</td>\n",
       "      <td>Mar</td>\n",
       "      <td>12.0</td>\n",
       "      <td>0.0</td>\n",
       "    </tr>\n",
       "    <tr>\n",
       "      <td>3</td>\n",
       "      <td>4</td>\n",
       "      <td>NaN</td>\n",
       "      <td>Afghanistan</td>\n",
       "      <td>33.0</td>\n",
       "      <td>65.0</td>\n",
       "      <td>2020-03-15</td>\n",
       "      <td>Mar</td>\n",
       "      <td>21.0</td>\n",
       "      <td>0.0</td>\n",
       "    </tr>\n",
       "    <tr>\n",
       "      <td>4</td>\n",
       "      <td>5</td>\n",
       "      <td>NaN</td>\n",
       "      <td>Afghanistan</td>\n",
       "      <td>33.0</td>\n",
       "      <td>65.0</td>\n",
       "      <td>2020-03-16</td>\n",
       "      <td>Mar</td>\n",
       "      <td>21.0</td>\n",
       "      <td>0.0</td>\n",
       "    </tr>\n",
       "  </tbody>\n",
       "</table>\n",
       "</div>"
      ],
      "text/plain": [
       "   ForecastId Province/State Country/Region   Lat  Long       Date Month  \\\n",
       "0           1            NaN    Afghanistan  33.0  65.0 2020-03-12   Mar   \n",
       "1           2            NaN    Afghanistan  33.0  65.0 2020-03-13   Mar   \n",
       "2           3            NaN    Afghanistan  33.0  65.0 2020-03-14   Mar   \n",
       "3           4            NaN    Afghanistan  33.0  65.0 2020-03-15   Mar   \n",
       "4           5            NaN    Afghanistan  33.0  65.0 2020-03-16   Mar   \n",
       "\n",
       "   ConfirmedCases_prediction  Fatalities_Prediction  \n",
       "0                        8.0                    0.0  \n",
       "1                        8.0                    0.0  \n",
       "2                       12.0                    0.0  \n",
       "3                       21.0                    0.0  \n",
       "4                       21.0                    0.0  "
      ]
     },
     "execution_count": 29,
     "metadata": {},
     "output_type": "execute_result"
    }
   ],
   "source": [
    "#Adding a new column i.e. Month which pulls the month data from 'Date'\n",
    "test['Month'] = pd.DatetimeIndex(test['Date']).month\n",
    "test['Month'] = test['Month'].apply(lambda x: calendar.month_abbr[x])\n",
    "\n",
    "# Reset test_new Data with columns in desired order (i.e. Moving Month column after date)\n",
    "test = test[['ForecastId', 'Province/State','Country/Region','Lat','Long','Date', 'Month', 'ConfirmedCases_prediction', 'Fatalities_Prediction']]\n",
    "\n",
    "\n",
    "test.head()"
   ]
  },
  {
   "cell_type": "code",
   "execution_count": 30,
   "metadata": {},
   "outputs": [
    {
     "data": {
      "text/plain": [
       "<matplotlib.axes._subplots.AxesSubplot at 0x199f771d308>"
      ]
     },
     "execution_count": 30,
     "metadata": {},
     "output_type": "execute_result"
    },
    {
     "data": {
      "image/png": "[encoded data removed]",
      "text/plain": [
       "<Figure size 432x288 with 1 Axes>"
      ]
     },
     "metadata": {
      "needs_background": "light"
     },
     "output_type": "display_data"
    }
   ],
   "source": [
    "# Fatal Rate:\n",
    "test_cases=test.groupby('Country/Region')['ConfirmedCases_prediction','Fatalities_Prediction'].max().reset_index().sort_values('ConfirmedCases_prediction',ascending=False)    \n",
    "\n",
    "test_cases['Test_Fatal rate (in %)'] = test_cases['Fatalities_Prediction']/test_cases['ConfirmedCases_prediction']\n",
    "Top10_testdata=test_cases[:10]\n",
    "sns.barplot(y='Country/Region',x='Test_Fatal rate (in %)',data=Top10_testdata)\n",
    "\n",
    "# We have noticed that even in Mid March and April the Fatal rate per Confirmed Cases (Prediction) was high in Italy followed by Iran and then Spain but now the % has increaed compared to the Train data"
   ]
  },
  {
   "cell_type": "code",
   "execution_count": 31,
   "metadata": {
    "scrolled": false
   },
   "outputs": [
    {
     "data": {
      "image/png": "[encoded data removed]",
      "text/plain": [
       "<Figure size 1080x360 with 1 Axes>"
      ]
     },
     "metadata": {
      "needs_background": "light"
     },
     "output_type": "display_data"
    },
    {
     "data": {
      "image/png": "[encoded data removed]",
      "text/plain": [
       "<Figure size 1080x360 with 1 Axes>"
      ]
     },
     "metadata": {
      "needs_background": "light"
     },
     "output_type": "display_data"
    }
   ],
   "source": [
    "# ConfirmedCases and Fatalities for a particular day in top 10 countries\n",
    "def cases_vs_date (Date, test):\n",
    "    test = test.groupby(['Country/Region', 'Date'], as_index = False)['ConfirmedCases_prediction'].max()\n",
    "    date_filter = (test['Date'] == Date)\n",
    "    test = test.loc[date_filter]\n",
    "    test.sort_values('ConfirmedCases_prediction', ascending = False, inplace = True)\n",
    "    sns.catplot(x = 'Country/Region', y = 'ConfirmedCases_prediction' , data = test.head(10), height=5,aspect=3, kind = 'bar')\n",
    "\n",
    "def fatal_vs_date (Date, test):\n",
    "    test = test.groupby(['Country/Region', 'Date'], as_index = False)['Fatalities_Prediction'].max()\n",
    "    date_filter = (test['Date'] == Date)\n",
    "    test = test.loc[date_filter]\n",
    "    test.sort_values('Fatalities_Prediction', ascending = False, inplace = True)\n",
    "    sns.catplot(x = 'Country/Region', y = 'Fatalities_Prediction' , data = test.head(10), height=5,aspect=3, kind = 'bar')\n",
    "    \n",
    "    \n",
    "cases_vs_date('2020-04-23', test) \n",
    "    \n",
    "fatal_vs_date('2020-04-23', test)\n",
    "\n",
    "# What we have noticed here is that the Cases are more in China than in Italy, but the Fatalities are more in Italy confirmed to other countries even from the period of mid March to mid Apri"
   ]
  },
  {
   "cell_type": "markdown",
   "metadata": {},
   "source": [
    "# Global Interpretability through SHAP Tree Explainer"
   ]
  },
  {
   "cell_type": "code",
   "execution_count": 32,
   "metadata": {},
   "outputs": [
    {
     "name": "stdout",
     "output_type": "stream",
     "text": [
      "Requirement already satisfied: shap in c:\\users\\nehaa\\anaconda3\\lib\\site-packages (0.36.0)\n",
      "Requirement already satisfied: numba in c:\\users\\nehaa\\anaconda3\\lib\\site-packages (from shap) (0.45.1)\n",
      "Requirement already satisfied: numpy in c:\\users\\nehaa\\anaconda3\\lib\\site-packages (from shap) (1.16.5)\n",
      "Requirement already satisfied: tqdm>4.25.0 in c:\\users\\nehaa\\anaconda3\\lib\\site-packages (from shap) (4.36.1)\n",
      "Requirement already satisfied: slicer in c:\\users\\nehaa\\anaconda3\\lib\\site-packages (from shap) (0.0.3)\n",
      "Requirement already satisfied: scikit-learn in c:\\users\\nehaa\\anaconda3\\lib\\site-packages (from shap) (0.23.2)\n",
      "Requirement already satisfied: pandas in c:\\users\\nehaa\\anaconda3\\lib\\site-packages (from shap) (0.25.1)\n",
      "Requirement already satisfied: scipy in c:\\users\\nehaa\\anaconda3\\lib\\site-packages (from shap) (1.3.1)\n",
      "Requirement already satisfied: llvmlite>=0.29.0dev0 in c:\\users\\nehaa\\anaconda3\\lib\\site-packages (from numba->shap) (0.29.0)\n",
      "Requirement already satisfied: joblib>=0.11 in c:\\users\\nehaa\\anaconda3\\lib\\site-packages (from scikit-learn->shap) (0.13.2)\n",
      "Requirement already satisfied: threadpoolctl>=2.0.0 in c:\\users\\nehaa\\anaconda3\\lib\\site-packages (from scikit-learn->shap) (2.1.0)\n",
      "Requirement already satisfied: pytz>=2017.2 in c:\\users\\nehaa\\anaconda3\\lib\\site-packages (from pandas->shap) (2019.3)\n",
      "Requirement already satisfied: python-dateutil>=2.6.1 in c:\\users\\nehaa\\anaconda3\\lib\\site-packages (from pandas->shap) (2.8.0)\n",
      "Requirement already satisfied: six>=1.5 in c:\\users\\nehaa\\anaconda3\\lib\\site-packages (from python-dateutil>=2.6.1->pandas->shap) (1.12.0)\n"
     ]
    }
   ],
   "source": [
    "!pip install shap\n",
    "import shap"
   ]
  },
  {
   "cell_type": "code",
   "execution_count": 33,
   "metadata": {},
   "outputs": [
    {
     "data": {
      "image/png": "[encoded data removed]",
      "text/plain": [
       "<Figure size 576x194.4 with 1 Axes>"
      ]
     },
     "metadata": {
      "needs_background": "light"
     },
     "output_type": "display_data"
    }
   ],
   "source": [
    "shap_values = shap.TreeExplainer(classifier).shap_values(X)\n",
    "shap.summary_plot(shap_values, X, plot_type=\"bar\")"
   ]
  },
  {
   "cell_type": "code",
   "execution_count": 36,
   "metadata": {},
   "outputs": [
    {
     "data": {
      "image/png": "[encoded data removed]",
      "text/plain": [
       "<Figure size 576x194.4 with 2 Axes>"
      ]
     },
     "metadata": {
      "needs_background": "light"
     },
     "output_type": "display_data"
    }
   ],
   "source": [
    "shap.summary_plot(shap_values, features=X, feature_names=X.columns)"
   ]
  },
  {
   "cell_type": "raw",
   "metadata": {},
   "source": [
    "We can see that from both the Shap Summary plot that Longitude has a more important as a feature in getting the predictions. It has more explainability in the model incomparison to other features from what we can see from SHAP Analysis. "
   ]
  },
  {
   "cell_type": "raw",
   "metadata": {},
   "source": [
    "\n",
    "Conclusion- We can see that this disease has really taken the world to another extent especially in the data we can see in April.. COVID 19 was at its peak, affecting almost every country in the world. But the most affected countries till April mid-time period were China and Itlay followed by Spain and Iran."
   ]
  }
 ],
 "metadata": {
  "kernelspec": {
   "display_name": "Python 3",
   "language": "python",
   "name": "python3"
  },
  "language_info": {
   "codemirror_mode": {
    "name": "ipython",
    "version": 3
   },
   "file_extension": ".py",
   "mimetype": "text/x-python",
   "name": "python",
   "nbconvert_exporter": "python",
   "pygments_lexer": "ipython3",
   "version": "3.7.4"
  }
 },
 "nbformat": 4,
 "nbformat_minor": 2
}
